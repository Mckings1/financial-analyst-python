{
 "cells": [
  {
   "cell_type": "code",
   "execution_count": 1,
   "id": "17211e1a",
   "metadata": {},
   "outputs": [
    {
     "name": "stdout",
     "output_type": "stream",
     "text": [
      "Requirement already satisfied: pandas in c:\\users\\envy\\anaconda3\\lib\\site-packages (1.4.2)\n",
      "Requirement already satisfied: numpy>=1.18.5 in c:\\users\\envy\\anaconda3\\lib\\site-packages (from pandas) (1.21.5)\n",
      "Requirement already satisfied: python-dateutil>=2.8.1 in c:\\users\\envy\\anaconda3\\lib\\site-packages (from pandas) (2.8.2)\n",
      "Requirement already satisfied: pytz>=2020.1 in c:\\users\\envy\\anaconda3\\lib\\site-packages (from pandas) (2024.1)\n",
      "Requirement already satisfied: six>=1.5 in c:\\users\\envy\\anaconda3\\lib\\site-packages (from python-dateutil>=2.8.1->pandas) (1.16.0)\n",
      "Note: you may need to restart the kernel to use updated packages.\n"
     ]
    }
   ],
   "source": [
    "pip install pandas"
   ]
  },
  {
   "cell_type": "code",
   "execution_count": 2,
   "id": "6564981a",
   "metadata": {},
   "outputs": [],
   "source": [
    "import pandas as pd"
   ]
  },
  {
   "cell_type": "code",
   "execution_count": 5,
   "id": "517fa045",
   "metadata": {},
   "outputs": [],
   "source": [
    "file_path = \"Copy of Shipping Report - Case Study.xlsx\"  # Replace with your file path\n",
    "df = pd.read_excel(file_path)"
   ]
  },
  {
   "cell_type": "code",
   "execution_count": 10,
   "id": "5569033a",
   "metadata": {},
   "outputs": [],
   "source": [
    "#df\n",
    "xls = pd.ExcelFile(file_path)"
   ]
  },
  {
   "cell_type": "code",
   "execution_count": 11,
   "id": "02b2a55a",
   "metadata": {},
   "outputs": [
    {
     "data": {
      "text/plain": [
       "['SHIPPING Database',\n",
       " 'NG Shipping Bill',\n",
       " 'Profitability',\n",
       " 'Exchange Rate',\n",
       " 'Final Data']"
      ]
     },
     "execution_count": 11,
     "metadata": {},
     "output_type": "execute_result"
    }
   ],
   "source": [
    "sheet_names = xls.sheet_names\n",
    "sheet_names"
   ]
  },
  {
   "cell_type": "code",
   "execution_count": 12,
   "id": "5915a46e",
   "metadata": {},
   "outputs": [
    {
     "data": {
      "text/plain": [
       "(   Order IDs       Date         Invoice Date    Invoice No.   Waybill No.  \\\n",
       " 0    12585.0 2023-02-06  2023-02-20 00:00:00  LOSR000154131  1111081554.0   \n",
       " 1    12586.0 2023-02-06  2023-02-17 00:00:00   INV20230217A           NaN   \n",
       " 2    12587.0 2023-02-06  2023-02-08 00:00:00  LOSR000153425  4277651770.0   \n",
       " 3    12588.0 2023-02-06  2023-02-07 00:00:00  LOSR000153425  8299730375.0   \n",
       " 4    12589.0 2023-02-06  2023-02-10 00:00:00  LOSR000153425  4657659985.0   \n",
       " \n",
       "   Waybill Cost Waybill Weight  Store Weight       Shipper 1      Shipper 2  \\\n",
       " 0       4434.6            1.0           NaN          DHL-NG            NaN   \n",
       " 1       1500.0            NaN           NaN  Local Dispatch            NaN   \n",
       " 2     28449.27            2.5           NaN             DHL  Shopify -USPS   \n",
       " 3     20864.77            0.5           NaN             DHL            NaN   \n",
       " 4     35252.33            3.0           NaN             DHL  Shopify -USPS   \n",
       " \n",
       "    ... Cost of goods sold Shipping Insurance Cost    Year Quarter  Month  \\\n",
       " 0  ...              18.78                    0.00  2023.0      Q1    Feb   \n",
       " 1  ...               8.75                    0.00  2023.0      Q1    Feb   \n",
       " 2  ...              18.30                    0.00  2023.0      Q1    Feb   \n",
       " 3  ...              11.10                    0.00  2023.0      Q1    Feb   \n",
       " 4  ...             134.70                    3.56  2023.0      Q1    Feb   \n",
       " \n",
       "    Week    Month.1  Shipping Type Filter  Management Fees        Invoice Month  \n",
       " 0   6.0 2023-02-01                   NaN              0.0  2023-02-01 00:00:00  \n",
       " 1   6.0 2023-02-01                   NaN              0.0  2023-02-01 00:00:00  \n",
       " 2   6.0 2023-02-01                   NaN              4.5  2023-02-01 00:00:00  \n",
       " 3   6.0 2023-02-01                   NaN              0.0  2023-02-01 00:00:00  \n",
       " 4   6.0 2023-02-01                   NaN              4.5  2023-02-01 00:00:00  \n",
       " \n",
       " [5 rows x 39 columns],\n",
       "   Shipping Profitability          Jan 2024     Unnamed: 2 Unnamed: 3  \\\n",
       " 0                    NaN  Shipping Revenue  Shipping Cost  Gain/Loss   \n",
       " 1                    NaN               NaN            NaN        NaN   \n",
       " 2                 DHL-NG               491              0        491   \n",
       " 3                    GIG                 0              0          0   \n",
       " 4                SpeedAF                 0              0          0   \n",
       " \n",
       "    Unnamed: 4          Feb 2024     Unnamed: 6 Unnamed: 7  Unnamed: 8  \\\n",
       " 0  %Gain/Loss  Shipping Revenue  Shipping Cost  Gain/Loss  %Gain/Loss   \n",
       " 1         NaN               NaN            NaN        NaN         NaN   \n",
       " 2           1            470.58              0     470.58           1   \n",
       " 3         NaN                 0              0          0         NaN   \n",
       " 4         NaN                 0              0          0         NaN   \n",
       " \n",
       "            Mar 2024  ... Unnamed: 19 Unnamed: 20          Jun 2024  \\\n",
       " 0  Shipping Revenue  ...   Gain/Loss  %Gain/Loss  Shipping Revenue   \n",
       " 1               NaN  ...         NaN         NaN               NaN   \n",
       " 2         56.956667  ...   16.551724           1                 0   \n",
       " 3                 0  ...           0         NaN                 0   \n",
       " 4         25.913333  ...   61.740909           1                 0   \n",
       " \n",
       "      Unnamed: 22 Unnamed: 23 Unnamed: 24          Jul 2024    Unnamed: 26  \\\n",
       " 0  Shipping Cost   Gain/Loss  %Gain/Loss  Shipping Revenue  Shipping Cost   \n",
       " 1            NaN         NaN         NaN               NaN            NaN   \n",
       " 2              0           0         NaN                 0              0   \n",
       " 3              0           0         NaN         15.075862              0   \n",
       " 4              0           0         NaN                 0              0   \n",
       " \n",
       "   Unnamed: 27 Unnamed: 28  \n",
       " 0   Gain/Loss  %Gain/Loss  \n",
       " 1         NaN         NaN  \n",
       " 2           0         NaN  \n",
       " 3   15.075862           1  \n",
       " 4           0         NaN  \n",
       " \n",
       " [5 rows x 29 columns])"
      ]
     },
     "execution_count": 12,
     "metadata": {},
     "output_type": "execute_result"
    }
   ],
   "source": [
    "# Load the 'SHIPPING Database' and 'Profitability' sheets to check for broken formulas and missing data\n",
    "shipping_db_df = xls.parse('SHIPPING Database')\n",
    "profitability_df = xls.parse('Profitability')\n",
    "\n",
    "# Display the first few rows of each sheet to understand their structure and locate relevant columns\n",
    "shipping_db_df.head(), profitability_df.head()\n"
   ]
  },
  {
   "cell_type": "code",
   "execution_count": 13,
   "id": "a013beef",
   "metadata": {},
   "outputs": [
    {
     "data": {
      "text/plain": [
       "(1561, (1, 2), (1, 6))"
      ]
     },
     "execution_count": 13,
     "metadata": {},
     "output_type": "execute_result"
    }
   ],
   "source": [
    "# Check for missing values in the \"Cost of Goods Sold\" column in the \"SHIPPING Database\" sheet.\n",
    "cogs_missing = shipping_db_df['Cost of goods sold'].isnull().sum()\n",
    "\n",
    "# Examine the \"Shipping Revenue\" and \"Shipping Cost\" columns for July 2024 in the \"Profitability\" sheet.\n",
    "# Assuming \"Shipping Revenue\" for July 2024 is in the \"Jul 2024\" column and \"Shipping Cost\" in \"Unnamed: 26\"\n",
    "july_shipping_revenue = profitability_df['Jul 2024']\n",
    "july_shipping_cost = profitability_df['Unnamed: 26']\n",
    "\n",
    "# Find if there are any anomalies in July 2024 columns (e.g., missing or zero values where values are expected)\n",
    "july_revenue_issues = july_shipping_revenue.isnull().sum(), (july_shipping_revenue == 0).sum()\n",
    "july_cost_issues = july_shipping_cost.isnull().sum(), (july_shipping_cost == 0).sum()\n",
    "\n",
    "cogs_missing, july_revenue_issues, july_cost_issues\n"
   ]
  },
  {
   "cell_type": "code",
   "execution_count": 14,
   "id": "70ceaa5f",
   "metadata": {},
   "outputs": [
    {
     "data": {
      "text/plain": [
       "Month\n",
       "Apr      0\n",
       "Aug      0\n",
       "Dec      0\n",
       "Feb      0\n",
       "Jan      0\n",
       "Jul    496\n",
       "Jun      0\n",
       "Mar      0\n",
       "May      0\n",
       "Nov      0\n",
       "Oct      0\n",
       "Sep      1\n",
       "Name: Cost of goods sold, dtype: int64"
      ]
     },
     "execution_count": 14,
     "metadata": {},
     "output_type": "execute_result"
    }
   ],
   "source": [
    "# Check if there's a pattern in the missing \"Cost of goods sold\" values in \"SHIPPING Database\"\n",
    "# and attempt filling in missing values based on other rows if possible.\n",
    "\n",
    "# Count the number of missing values per \"Month\" to see if specific months have gaps in \"Cost of goods sold\"\n",
    "cogs_missing_by_month = shipping_db_df.groupby(\"Month\")[\"Cost of goods sold\"].apply(lambda x: x.isnull().sum())\n",
    "\n",
    "# Display the distribution of missing \"Cost of goods sold\" by month\n",
    "cogs_missing_by_month\n"
   ]
  },
  {
   "cell_type": "code",
   "execution_count": null,
   "id": "630bac9d",
   "metadata": {},
   "outputs": [],
   "source": []
  }
 ],
 "metadata": {
  "kernelspec": {
   "display_name": "Python 3 (ipykernel)",
   "language": "python",
   "name": "python3"
  },
  "language_info": {
   "codemirror_mode": {
    "name": "ipython",
    "version": 3
   },
   "file_extension": ".py",
   "mimetype": "text/x-python",
   "name": "python",
   "nbconvert_exporter": "python",
   "pygments_lexer": "ipython3",
   "version": "3.9.12"
  }
 },
 "nbformat": 4,
 "nbformat_minor": 5
}
